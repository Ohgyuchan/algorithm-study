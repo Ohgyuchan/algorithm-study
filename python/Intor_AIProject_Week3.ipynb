{
 "cells": [
  {
   "cell_type": "code",
   "execution_count": 18,
   "id": "modern-chancellor",
   "metadata": {},
   "outputs": [
    {
     "data": {
      "text/plain": [
       "55"
      ]
     },
     "execution_count": 18,
     "metadata": {},
     "output_type": "execute_result"
    }
   ],
   "source": [
    "def sum(n) :\n",
    "    if n == 0 : return 0\n",
    "    else : return n + sum(n-1)\n",
    "sum(10)"
   ]
  },
  {
   "cell_type": "code",
   "execution_count": 20,
   "id": "historic-brunei",
   "metadata": {},
   "outputs": [],
   "source": [
    "import numpy as np"
   ]
  },
  {
   "cell_type": "code",
   "execution_count": 22,
   "id": "polar-medication",
   "metadata": {},
   "outputs": [
    {
     "data": {
      "text/plain": [
       "array([ 0,  1,  2,  3,  4,  5,  6,  7,  8,  9, 10])"
      ]
     },
     "execution_count": 22,
     "metadata": {},
     "output_type": "execute_result"
    }
   ],
   "source": [
    "np.array([0, 1, 2, 3, 4, 5, 6, 7, 8, 9, 10], dtype = int)"
   ]
  },
  {
   "cell_type": "code",
   "execution_count": 24,
   "id": "available-insert",
   "metadata": {},
   "outputs": [],
   "source": [
    "import numpy as np\n",
    "import matplotlib.pyplot as plt"
   ]
  },
  {
   "cell_type": "code",
   "execution_count": 25,
   "id": "three-ordinary",
   "metadata": {},
   "outputs": [],
   "source": [
    "import openpyxl\n",
    "file = openpyxl.load_workbook('./data_set_train.xlsx')\n",
    "ws = file.active\n",
    "data=[]\n",
    "col=[]\n",
    "for row in ws.iter_rows(max_row=1):\n",
    "    for cell in row:\n",
    "        col.append(cell.value)\n",
    "for row in ws.iter_rows(min_row=2):\n",
    "    ls=[]\n",
    "    for cell in row:\n",
    "        ls.append(cell.value)\n",
    "    data.append(ls)"
   ]
  },
  {
   "cell_type": "code",
   "execution_count": 27,
   "id": "written-mongolia",
   "metadata": {},
   "outputs": [
    {
     "data": {
      "text/plain": [
       "['강남역우정에쉐르', '2006Q1', 9000.0, 2004.0, '역삼동']"
      ]
     },
     "execution_count": 27,
     "metadata": {},
     "output_type": "execute_result"
    }
   ],
   "source": [
    "data[0][0:5]"
   ]
  },
  {
   "cell_type": "code",
   "execution_count": 29,
   "id": "sweet-performer",
   "metadata": {},
   "outputs": [
    {
     "name": "stdout",
     "output_type": "stream",
     "text": [
      "<class 'list'>\n",
      "<class 'numpy.ndarray'>\n"
     ]
    }
   ],
   "source": [
    "print(type(data))\n",
    "arr=np.array(data)\n",
    "print(type(arr))"
   ]
  },
  {
   "cell_type": "code",
   "execution_count": 31,
   "id": "joint-reserve",
   "metadata": {},
   "outputs": [
    {
     "data": {
      "text/plain": [
       "(17400, 29)"
      ]
     },
     "execution_count": 31,
     "metadata": {},
     "output_type": "execute_result"
    }
   ],
   "source": [
    "arr.shape"
   ]
  },
  {
   "cell_type": "code",
   "execution_count": 36,
   "id": "therapeutic-beatles",
   "metadata": {},
   "outputs": [
    {
     "data": {
      "text/plain": [
       "array([['강남역우정에쉐르', '2006Q1', '9000.0', ..., '7.0', '37.4942041',\n",
       "        '127.0435446'],\n",
       "       ['강남역우정에쉐르', '2006Q1', '9000.0', ..., '7.0', '37.4942041',\n",
       "        '127.0435446'],\n",
       "       ['개포주공1단지', '2006Q1', '73000.0', ..., '3.0', '37.4784072',\n",
       "        '127.061375'],\n",
       "       ...,\n",
       "       ['현대하이츠', '2017Q3', '64000.0', ..., '1.0', '37.4913789',\n",
       "        '127.0348797'],\n",
       "       ['현대한강', '2017Q3', '170000.0', ..., '8.0', '37.5246752',\n",
       "        '127.056226'],\n",
       "       ['현대한강', '2017Q3', '170000.0', ..., '8.0', '37.5246752',\n",
       "        '127.056226']], dtype='<U32')"
      ]
     },
     "execution_count": 36,
     "metadata": {},
     "output_type": "execute_result"
    }
   ],
   "source": [
    "data_set=arr[:,:9]\n",
    "data_set"
   ]
  },
  {
   "cell_type": "code",
   "execution_count": 38,
   "id": "prescription-building",
   "metadata": {},
   "outputs": [
    {
     "data": {
      "text/plain": [
       "(17400, 9)"
      ]
     },
     "execution_count": 38,
     "metadata": {},
     "output_type": "execute_result"
    }
   ],
   "source": [
    "data_set.shape"
   ]
  },
  {
   "cell_type": "code",
   "execution_count": 40,
   "id": "respective-yahoo",
   "metadata": {},
   "outputs": [
    {
     "data": {
      "text/plain": [
       "array([['강남역우정에쉐르', '2006Q1', '9000.0', ..., '7.0', '37.4942041',\n",
       "        '127.0435446'],\n",
       "       ['강남역우정에쉐르', '2006Q1', '9000.0', ..., '7.0', '37.4942041',\n",
       "        '127.0435446'],\n",
       "       ['개포주공1단지', '2006Q1', '73000.0', ..., '3.0', '37.4784072',\n",
       "        '127.061375'],\n",
       "       ...,\n",
       "       ['현대빌라트', '2006Q4', '125000.0', ..., '3.0', '37.5179279',\n",
       "        '127.0428004'],\n",
       "       ['현대빌라트', '2006Q4', '125000.0', ..., '3.0', '37.5179279',\n",
       "        '127.0428004'],\n",
       "       ['현대빌라트', '2006Q4', '125000.0', ..., '3.0', '37.5179279',\n",
       "        '127.0428004']], dtype='<U32')"
      ]
     },
     "execution_count": 40,
     "metadata": {},
     "output_type": "execute_result"
    }
   ],
   "source": [
    "data_set2006=data_set[data_set[:,1]<'2007Q1',:]\n",
    "data_set2006"
   ]
  },
  {
   "cell_type": "code",
   "execution_count": 42,
   "id": "advised-glenn",
   "metadata": {},
   "outputs": [
    {
     "data": {
      "text/plain": [
       "(2617, 9)"
      ]
     },
     "execution_count": 42,
     "metadata": {},
     "output_type": "execute_result"
    }
   ],
   "source": [
    "data_set2006.shape"
   ]
  },
  {
   "cell_type": "code",
   "execution_count": 44,
   "id": "weird-tractor",
   "metadata": {},
   "outputs": [
    {
     "data": {
      "text/plain": [
       "dtype('<U32')"
      ]
     },
     "execution_count": 44,
     "metadata": {},
     "output_type": "execute_result"
    }
   ],
   "source": [
    "price=data_set2006[:,2]\n",
    "price.dtype"
   ]
  },
  {
   "cell_type": "code",
   "execution_count": 50,
   "id": "apparent-matrix",
   "metadata": {},
   "outputs": [
    {
     "name": "stdout",
     "output_type": "stream",
     "text": [
      "['강남역우정에쉐르' '2006Q1' '9000.0' '2004.0' '역삼동' '17.23' '7.0' '37.4942041'\n",
      " '127.0435446']\n"
     ]
    }
   ],
   "source": [
    "print(data_set2006[0])\n",
    "\n",
    "price = data_set2006[:,2].astype(float)\n",
    "lat = data_set2006[:,7].astype(float)\n",
    "lng = data_set2006[:,8].astype(float)"
   ]
  },
  {
   "cell_type": "code",
   "execution_count": 55,
   "id": "controlled-commerce",
   "metadata": {},
   "outputs": [
    {
     "ename": "TypeError",
     "evalue": "'module' object is not callable",
     "output_type": "error",
     "traceback": [
      "\u001b[0;31m---------------------------------------------------------------------------\u001b[0m",
      "\u001b[0;31mTypeError\u001b[0m                                 Traceback (most recent call last)",
      "\u001b[0;32m<ipython-input-55-73a3da5cd72e>\u001b[0m in \u001b[0;36m<module>\u001b[0;34m\u001b[0m\n\u001b[1;32m      1\u001b[0m \u001b[0;32mimport\u001b[0m \u001b[0mmatplotlib\u001b[0m \u001b[0;32mas\u001b[0m \u001b[0mplt\u001b[0m\u001b[0;34m\u001b[0m\u001b[0;34m\u001b[0m\u001b[0m\n\u001b[0;32m----> 2\u001b[0;31m \u001b[0mplt\u001b[0m\u001b[0;34m.\u001b[0m\u001b[0mfigure\u001b[0m\u001b[0;34m(\u001b[0m\u001b[0mfigsize\u001b[0m\u001b[0;34m=\u001b[0m\u001b[0;34m(\u001b[0m\u001b[0;36m10\u001b[0m\u001b[0;34m,\u001b[0m\u001b[0;36m5\u001b[0m\u001b[0;34m)\u001b[0m\u001b[0;34m)\u001b[0m\u001b[0;34m\u001b[0m\u001b[0;34m\u001b[0m\u001b[0m\n\u001b[0m\u001b[1;32m      3\u001b[0m \u001b[0mplt\u001b[0m\u001b[0;34m.\u001b[0m\u001b[0msubplot\u001b[0m\u001b[0;34m(\u001b[0m\u001b[0;36m1\u001b[0m\u001b[0;34m,\u001b[0m\u001b[0;36m2\u001b[0m\u001b[0;34m,\u001b[0m\u001b[0;36m1\u001b[0m\u001b[0;34m)\u001b[0m\u001b[0;34m\u001b[0m\u001b[0;34m\u001b[0m\u001b[0m\n\u001b[1;32m      4\u001b[0m \u001b[0mplt\u001b[0m\u001b[0;34m.\u001b[0m\u001b[0mxlim\u001b[0m\u001b[0;34m(\u001b[0m\u001b[0;34m[\u001b[0m\u001b[0;34m-\u001b[0m\u001b[0;36m1.\u001b[0m\u001b[0;34m,\u001b[0m \u001b[0;36m1.\u001b[0m\u001b[0;34m]\u001b[0m\u001b[0;34m)\u001b[0m\u001b[0;34m\u001b[0m\u001b[0;34m\u001b[0m\u001b[0m\n\u001b[1;32m      5\u001b[0m \u001b[0mplt\u001b[0m\u001b[0;34m.\u001b[0m\u001b[0mylim\u001b[0m\u001b[0;34m(\u001b[0m\u001b[0;34m[\u001b[0m\u001b[0;34m-\u001b[0m\u001b[0;36m0.5\u001b[0m\u001b[0;34m,\u001b[0m \u001b[0;36m2.5\u001b[0m\u001b[0;34m]\u001b[0m\u001b[0;34m)\u001b[0m\u001b[0;34m\u001b[0m\u001b[0;34m\u001b[0m\u001b[0m\n",
      "\u001b[0;31mTypeError\u001b[0m: 'module' object is not callable"
     ]
    }
   ],
   "source": [
    "import matplotlib as plt\n",
    "plt.figure(figsize=(10,5))\n",
    "plt.subplot(1,2,1)\n",
    "plt.xlim([-1., 1.])\n",
    "plt.ylim([-0.5, 2.5])\n",
    "\n",
    "plt.subplot(1,2,2)\n",
    "plt.ylabel('Y')\n",
    "plt.xlabel('X')\n",
    "plt.tile(\"Hanse\")"
   ]
  },
  {
   "cell_type": "code",
   "execution_count": 54,
   "id": "hired-breeding",
   "metadata": {},
   "outputs": [
    {
     "ename": "AttributeError",
     "evalue": "module 'matplotlib.pyplot' has no attribute 'sctter'",
     "output_type": "error",
     "traceback": [
      "\u001b[0;31m---------------------------------------------------------------------------\u001b[0m",
      "\u001b[0;31mAttributeError\u001b[0m                            Traceback (most recent call last)",
      "\u001b[0;32m<ipython-input-54-1828e6d1e9e3>\u001b[0m in \u001b[0;36m<module>\u001b[0;34m\u001b[0m\n\u001b[1;32m      4\u001b[0m \u001b[0my\u001b[0m \u001b[0;34m=\u001b[0m \u001b[0mnp\u001b[0m\u001b[0;34m.\u001b[0m\u001b[0mrandom\u001b[0m\u001b[0;34m.\u001b[0m\u001b[0mrand\u001b[0m\u001b[0;34m(\u001b[0m\u001b[0mN\u001b[0m\u001b[0;34m)\u001b[0m\u001b[0;34m\u001b[0m\u001b[0;34m\u001b[0m\u001b[0m\n\u001b[1;32m      5\u001b[0m \u001b[0;34m\u001b[0m\u001b[0m\n\u001b[0;32m----> 6\u001b[0;31m \u001b[0mplt\u001b[0m\u001b[0;34m.\u001b[0m\u001b[0msctter\u001b[0m\u001b[0;34m(\u001b[0m\u001b[0mx\u001b[0m\u001b[0;34m,\u001b[0m \u001b[0my\u001b[0m\u001b[0;34m,\u001b[0m\u001b[0mc\u001b[0m\u001b[0;34m=\u001b[0m\u001b[0;34m'black'\u001b[0m\u001b[0;34m,\u001b[0m \u001b[0malpha\u001b[0m\u001b[0;34m=\u001b[0m\u001b[0;36m0.5\u001b[0m\u001b[0;34m)\u001b[0m\u001b[0;34m\u001b[0m\u001b[0;34m\u001b[0m\u001b[0m\n\u001b[0m\u001b[1;32m      7\u001b[0m \u001b[0mplt\u001b[0m\u001b[0;34m.\u001b[0m\u001b[0mshow\u001b[0m\u001b[0;34m(\u001b[0m\u001b[0;34m)\u001b[0m\u001b[0;34m\u001b[0m\u001b[0;34m\u001b[0m\u001b[0m\n",
      "\u001b[0;31mAttributeError\u001b[0m: module 'matplotlib.pyplot' has no attribute 'sctter'"
     ]
    }
   ],
   "source": [
    "np.random.seed(500)\n",
    "N = 50\n",
    "x = np.random.rand(N)\n",
    "y = np.random.rand(N)\n",
    "\n",
    "plt.sctter(x, y,c='black', alpha=0.5)\n",
    "plt.show()"
   ]
  }
 ],
 "metadata": {
  "kernelspec": {
   "display_name": "Python 3",
   "language": "python",
   "name": "python3"
  },
  "language_info": {
   "codemirror_mode": {
    "name": "ipython",
    "version": 3
   },
   "file_extension": ".py",
   "mimetype": "text/x-python",
   "name": "python",
   "nbconvert_exporter": "python",
   "pygments_lexer": "ipython3",
   "version": "3.8.2"
  }
 },
 "nbformat": 4,
 "nbformat_minor": 5
}
